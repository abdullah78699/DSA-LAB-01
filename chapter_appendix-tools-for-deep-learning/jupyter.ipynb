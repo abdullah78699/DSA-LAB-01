{
  "cells": [
    {
      "cell_type": "code",
      "source": [
        "#imports\n",
        "from collections import deque\n",
        "import heapq"
      ],
      "metadata": {
        "id": "-yIaJsD5VCVf"
      },
      "id": "-yIaJsD5VCVf",
      "execution_count": 20,
      "outputs": []
    },
    {
      "cell_type": "code",
      "source": [
        "# DICTIONARY LOADING\n",
        "def load_dictionary(word_len):\n",
        "    \"\"\"\n",
        "    Load all words from dictionary.txt that match the required word length.\n",
        "    \"\"\"\n",
        "    with open(\"dictionary.txt\") as f:\n",
        "        return [word.strip().lower() for word in f if len(word.strip()) == word_len]"
      ],
      "metadata": {
        "id": "nNBh1GswWghP"
      },
      "id": "nNBh1GswWghP",
      "execution_count": 21,
      "outputs": []
    },
    {
      "cell_type": "code",
      "source": [
        "# HEURISTIC FUNCTION\n",
        "def heuristic(word, target):\n",
        "    \"\"\"\n",
        "    Calculate the number of differing letters (Hamming Distance).\n",
        "    \"\"\"\n",
        "    return sum(1 for a, b in zip(word, target) if a != b)"
      ],
      "metadata": {
        "id": "Xsb9xqBCWqdQ"
      },
      "id": "Xsb9xqBCWqdQ",
      "execution_count": 22,
      "outputs": []
    },
    {
      "cell_type": "code",
      "source": [
        "# BFS ALGORITHM\n",
        "def bfs_word_ladder(start, end, word_list):\n",
        "    \"\"\"\n",
        "    Solve the Word Ladder using Breadth-First Search.\n",
        "    \"\"\"\n",
        "    word_set = set(word_list)\n",
        "    queue = deque([[start]])\n",
        "\n",
        "    while queue:\n",
        "        path = queue.popleft()\n",
        "        current_word = path[-1]\n",
        "\n",
        "        if current_word == end:\n",
        "            return path\n",
        "\n",
        "        for i in range(len(current_word)):\n",
        "            for c in 'abcdefghijklmnopqrstuvwxyz':\n",
        "                next_word = current_word[:i] + c + current_word[i+1:]\n",
        "                if next_word in word_set:\n",
        "                    word_set.remove(next_word)\n",
        "                    queue.append(path + [next_word])\n",
        "    return None"
      ],
      "metadata": {
        "id": "ZyCW06ADWzfJ"
      },
      "id": "ZyCW06ADWzfJ",
      "execution_count": 23,
      "outputs": []
    },
    {
      "cell_type": "code",
      "source": [
        "# A* ALGORITHM\n",
        "def a_star_word_ladder(start, end, word_list):\n",
        "    \"\"\"\n",
        "    Solve the Word Ladder using A* search with heuristic guidance.\n",
        "    \"\"\"\n",
        "    word_set = set(word_list)\n",
        "    open_set = []\n",
        "    heapq.heappush(open_set, (heuristic(start, end), 0, [start]))\n",
        "\n",
        "    while open_set:\n",
        "        est_total, cost, path = heapq.heappop(open_set)\n",
        "        current_word = path[-1]\n",
        "\n",
        "        if current_word == end:\n",
        "            return path\n",
        "\n",
        "        for i in range(len(current_word)):\n",
        "            for c in 'abcdefghijklmnopqrstuvwxyz':\n",
        "                next_word = current_word[:i] + c + current_word[i+1:]\n",
        "                if next_word in word_set:\n",
        "                    word_set.remove(next_word)\n",
        "                    new_path = path + [next_word]\n",
        "                    heapq.heappush(open_set, (cost + 1 + heuristic(next_word, end), cost + 1, new_path))\n",
        "\n",
        "    return None"
      ],
      "metadata": {
        "id": "KWwH37ObXAwW"
      },
      "id": "KWwH37ObXAwW",
      "execution_count": 24,
      "outputs": []
    },
    {
      "cell_type": "code",
      "source": [
        "# MAIN FUNCTION\n",
        "def main():\n",
        "    print(\"=== Word Ladder Solver with Dictionary File ===\")\n",
        "\n",
        "    start = input(\"Enter start word: \").strip().lower()\n",
        "    end = input(\"Enter end word: \").strip().lower()\n",
        "\n",
        "    if len(start) != len(end):\n",
        "        print(\"Error: Start and end words must be the same length.\")\n",
        "        return\n",
        "\n",
        "    # Load dictionary for the given word length\n",
        "    dictionary = load_dictionary(len(start))\n",
        "\n",
        "    # Make sure start and end are included\n",
        "    if end not in dictionary:\n",
        "        dictionary.append(end)\n",
        "    if start not in dictionary:\n",
        "        dictionary.append(start)\n",
        "         # ----- BFS SOLUTION -----\n",
        "    print(\"\\nSolving using BFS...\")\n",
        "    bfs_result = bfs_word_ladder(start, end, dictionary.copy())\n",
        "    if bfs_result:\n",
        "        print(\"BFS Path:\", \" -> \".join(bfs_result))\n",
        "        print(\"Steps:\", len(bfs_result) - 1)\n",
        "    else:\n",
        "        print(\"No path found using BFS.\")\n",
        "\n",
        "    # ----- A* SOLUTION -----\n",
        "    print(\"\\nSolving using A*...\")\n",
        "    astar_result = a_star_word_ladder(start, end, dictionary.copy())\n",
        "    if astar_result:\n",
        "        print(\"A* Path:\", \" -> \".join(astar_result))\n",
        "        print(\"Steps:\", len(astar_result) - 1)\n",
        "    else:\n",
        "        print(\"No path found using A*.\")"
      ],
      "metadata": {
        "id": "Bmnfpn2sXJz3"
      },
      "id": "Bmnfpn2sXJz3",
      "execution_count": 25,
      "outputs": []
    },
    {
      "cell_type": "code",
      "source": [
        "# ENTRY POINT\n",
        "# ============================\n",
        "if __name__ == \"__main__\":\n",
        "    main()"
      ],
      "metadata": {
        "id": "R8me4s5AXTVL",
        "outputId": "dc5e946d-4339-445d-980d-2a9551443798",
        "colab": {
          "base_uri": "https://localhost:8080/"
        }
      },
      "id": "R8me4s5AXTVL",
      "execution_count": 26,
      "outputs": [
        {
          "output_type": "stream",
          "name": "stdout",
          "text": [
            "=== Word Ladder Solver with Dictionary File ===\n",
            "Enter start word: nap\n",
            "Enter end word: pan\n",
            "\n",
            "Solving using BFS...\n",
            "BFS Path: nap -> map -> man -> pan\n",
            "Steps: 3\n",
            "\n",
            "Solving using A*...\n",
            "A* Path: nap -> map -> man -> pan\n",
            "Steps: 3\n"
          ]
        }
      ]
    }
  ],
  "metadata": {
    "kernelspec": {
      "display_name": "Python 3",
      "name": "python3"
    },
    "language_info": {
      "name": "python"
    },
    "required_libs": [],
    "colab": {
      "provenance": []
    }
  },
  "nbformat": 4,
  "nbformat_minor": 5
}